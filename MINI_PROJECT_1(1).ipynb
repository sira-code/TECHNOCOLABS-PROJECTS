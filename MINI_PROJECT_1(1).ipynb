{
  "nbformat": 4,
  "nbformat_minor": 0,
  "metadata": {
    "colab": {
      "name": "MINI PROJECT 1.ipynb",
      "provenance": [],
      "collapsed_sections": []
    },
    "kernelspec": {
      "name": "python3",
      "display_name": "Python 3"
    }
  },
  "cells": [
    {
      "cell_type": "code",
      "metadata": {
        "id": "VfoGRW-n6MET",
        "colab_type": "code",
        "colab": {}
      },
      "source": [
        "#SHIVANGI PANDEY"
      ],
      "execution_count": 46,
      "outputs": []
    },
    {
      "cell_type": "code",
      "metadata": {
        "id": "ZHfH9Ql9QAU9",
        "colab_type": "code",
        "colab": {}
      },
      "source": [
        "#MINI PROJECT 1:-\n",
        "#Dr. Semmelweis and the Discovery of Handwashing"
      ],
      "execution_count": 47,
      "outputs": []
    },
    {
      "cell_type": "code",
      "metadata": {
        "id": "VBuG5Wdy7cFZ",
        "colab_type": "code",
        "colab": {}
      },
      "source": [
        "#TASK 1\n",
        "#1. Meet Dr. Ignaz Semmelweis"
      ],
      "execution_count": 2,
      "outputs": []
    },
    {
      "cell_type": "code",
      "metadata": {
        "id": "A18qTnKq61qA",
        "colab_type": "code",
        "colab": {}
      },
      "source": [
        "#This is Dr. Ignaz Semmelweis, a Hungarian physician born in 1818 and active at the Vienna General Hospital.\n",
        "#If Dr. Semmelweis looks troubled it's probably because he's thinking about childbed fever:\n",
        "#A deadly disease affecting women that just have given birth. \n",
        "#He is thinking about it because in the early 1840s at the Vienna General Hospital as many as 10% of the women giving birth die from it.\n",
        "#He is thinking about it because he knows the cause of childbed fever: It's the contaminated hands of the doctors delivering the babies.\n",
        "#And they won't listen to him and wash their hands!\n"
      ],
      "execution_count": 5,
      "outputs": []
    },
    {
      "cell_type": "code",
      "metadata": {
        "id": "nFarDqCW7y1V",
        "colab_type": "code",
        "colab": {}
      },
      "source": [
        "#In this notebook, we're going to reanalyze the data that made Semmelweis discover the importance of handwashing. \n",
        "#Let's start by looking at the data that made Semmelweis realize that something was wrong with the procedures at \n",
        "#Vienna General Hospital."
      ],
      "execution_count": 6,
      "outputs": []
    },
    {
      "cell_type": "code",
      "metadata": {
        "id": "Tia9ODT4617M",
        "colab_type": "code",
        "colab": {
          "base_uri": "https://localhost:8080/",
          "height": 444
        },
        "outputId": "104b7ec4-da37-41ee-f206-1544c89df977"
      },
      "source": [
        "import pandas as pd\n",
        "print(\"CODE OF TASK 1\")\n",
        "# Read datasets/yearly_deaths_by_clinic.csv into yearly\n",
        "yearly = pd.read_csv('yearly_deaths_by_clinic.csv')\n",
        "# Print out yearly\n",
        "yearly "
      ],
      "execution_count": 7,
      "outputs": [
        {
          "output_type": "stream",
          "text": [
            "CODE OF TASK 1\n"
          ],
          "name": "stdout"
        },
        {
          "output_type": "execute_result",
          "data": {
            "text/html": [
              "<div>\n",
              "<style scoped>\n",
              "    .dataframe tbody tr th:only-of-type {\n",
              "        vertical-align: middle;\n",
              "    }\n",
              "\n",
              "    .dataframe tbody tr th {\n",
              "        vertical-align: top;\n",
              "    }\n",
              "\n",
              "    .dataframe thead th {\n",
              "        text-align: right;\n",
              "    }\n",
              "</style>\n",
              "<table border=\"1\" class=\"dataframe\">\n",
              "  <thead>\n",
              "    <tr style=\"text-align: right;\">\n",
              "      <th></th>\n",
              "      <th>year</th>\n",
              "      <th>births</th>\n",
              "      <th>deaths</th>\n",
              "      <th>clinic</th>\n",
              "    </tr>\n",
              "  </thead>\n",
              "  <tbody>\n",
              "    <tr>\n",
              "      <th>0</th>\n",
              "      <td>1841</td>\n",
              "      <td>3036</td>\n",
              "      <td>237</td>\n",
              "      <td>clinic 1</td>\n",
              "    </tr>\n",
              "    <tr>\n",
              "      <th>1</th>\n",
              "      <td>1842</td>\n",
              "      <td>3287</td>\n",
              "      <td>518</td>\n",
              "      <td>clinic 1</td>\n",
              "    </tr>\n",
              "    <tr>\n",
              "      <th>2</th>\n",
              "      <td>1843</td>\n",
              "      <td>3060</td>\n",
              "      <td>274</td>\n",
              "      <td>clinic 1</td>\n",
              "    </tr>\n",
              "    <tr>\n",
              "      <th>3</th>\n",
              "      <td>1844</td>\n",
              "      <td>3157</td>\n",
              "      <td>260</td>\n",
              "      <td>clinic 1</td>\n",
              "    </tr>\n",
              "    <tr>\n",
              "      <th>4</th>\n",
              "      <td>1845</td>\n",
              "      <td>3492</td>\n",
              "      <td>241</td>\n",
              "      <td>clinic 1</td>\n",
              "    </tr>\n",
              "    <tr>\n",
              "      <th>5</th>\n",
              "      <td>1846</td>\n",
              "      <td>4010</td>\n",
              "      <td>459</td>\n",
              "      <td>clinic 1</td>\n",
              "    </tr>\n",
              "    <tr>\n",
              "      <th>6</th>\n",
              "      <td>1841</td>\n",
              "      <td>2442</td>\n",
              "      <td>86</td>\n",
              "      <td>clinic 2</td>\n",
              "    </tr>\n",
              "    <tr>\n",
              "      <th>7</th>\n",
              "      <td>1842</td>\n",
              "      <td>2659</td>\n",
              "      <td>202</td>\n",
              "      <td>clinic 2</td>\n",
              "    </tr>\n",
              "    <tr>\n",
              "      <th>8</th>\n",
              "      <td>1843</td>\n",
              "      <td>2739</td>\n",
              "      <td>164</td>\n",
              "      <td>clinic 2</td>\n",
              "    </tr>\n",
              "    <tr>\n",
              "      <th>9</th>\n",
              "      <td>1844</td>\n",
              "      <td>2956</td>\n",
              "      <td>68</td>\n",
              "      <td>clinic 2</td>\n",
              "    </tr>\n",
              "    <tr>\n",
              "      <th>10</th>\n",
              "      <td>1845</td>\n",
              "      <td>3241</td>\n",
              "      <td>66</td>\n",
              "      <td>clinic 2</td>\n",
              "    </tr>\n",
              "    <tr>\n",
              "      <th>11</th>\n",
              "      <td>1846</td>\n",
              "      <td>3754</td>\n",
              "      <td>105</td>\n",
              "      <td>clinic 2</td>\n",
              "    </tr>\n",
              "  </tbody>\n",
              "</table>\n",
              "</div>"
            ],
            "text/plain": [
              "    year  births  deaths    clinic\n",
              "0   1841    3036     237  clinic 1\n",
              "1   1842    3287     518  clinic 1\n",
              "2   1843    3060     274  clinic 1\n",
              "3   1844    3157     260  clinic 1\n",
              "4   1845    3492     241  clinic 1\n",
              "5   1846    4010     459  clinic 1\n",
              "6   1841    2442      86  clinic 2\n",
              "7   1842    2659     202  clinic 2\n",
              "8   1843    2739     164  clinic 2\n",
              "9   1844    2956      68  clinic 2\n",
              "10  1845    3241      66  clinic 2\n",
              "11  1846    3754     105  clinic 2"
            ]
          },
          "metadata": {
            "tags": []
          },
          "execution_count": 7
        }
      ]
    },
    {
      "cell_type": "code",
      "metadata": {
        "id": "T8qkr2mL8R0j",
        "colab_type": "code",
        "colab": {}
      },
      "source": [
        "#TASK 2\n",
        "#The alarming number of deaths"
      ],
      "execution_count": 8,
      "outputs": []
    },
    {
      "cell_type": "code",
      "metadata": {
        "id": "VF61eXCl8SIw",
        "colab_type": "code",
        "colab": {}
      },
      "source": [
        "#Above table shows the number of women giving birth at the two clinics at the Vienna General \n",
        "#Hospital for the years 1841 to 1846. \n",
        "#You'll notice that giving birth was very dangerous; an alarming number of women died as \n",
        "#the result of childbirth, most of them from childbed fever."
      ],
      "execution_count": 9,
      "outputs": []
    },
    {
      "cell_type": "code",
      "metadata": {
        "id": "j7vJuxvM8STV",
        "colab_type": "code",
        "colab": {}
      },
      "source": [
        "#We see this more clearly if we look at the proportion of deaths out of the number\n",
        "#of women giving birth.\n",
        "#Let's look intothe proportion of deaths at Clinic 1."
      ],
      "execution_count": 10,
      "outputs": []
    },
    {
      "cell_type": "code",
      "metadata": {
        "id": "Oelaqa0j8SdJ",
        "colab_type": "code",
        "colab": {
          "base_uri": "https://localhost:8080/",
          "height": 256
        },
        "outputId": "4749ee74-d704-47f4-b66a-1c418d57c2ea"
      },
      "source": [
        "print('CODE OF TASK 2')\n",
        "# Calculate proportion of deaths per no. births\n",
        "yearly['proportion_deaths']=yearly.deaths/yearly.births\n",
        "\n",
        "# Extract clinic 1 data into yearly1 and clinic 2 data into yearly2\n",
        "yearly1 = yearly.loc[yearly.clinic == 'clinic 1', :]\n",
        "yearly2 = yearly.loc[yearly.clinic == 'clinic 2', :]\n",
        "\n",
        "# Print out yearly1 \n",
        "yearly1"
      ],
      "execution_count": 11,
      "outputs": [
        {
          "output_type": "stream",
          "text": [
            "CODE OF TASK 2\n"
          ],
          "name": "stdout"
        },
        {
          "output_type": "execute_result",
          "data": {
            "text/html": [
              "<div>\n",
              "<style scoped>\n",
              "    .dataframe tbody tr th:only-of-type {\n",
              "        vertical-align: middle;\n",
              "    }\n",
              "\n",
              "    .dataframe tbody tr th {\n",
              "        vertical-align: top;\n",
              "    }\n",
              "\n",
              "    .dataframe thead th {\n",
              "        text-align: right;\n",
              "    }\n",
              "</style>\n",
              "<table border=\"1\" class=\"dataframe\">\n",
              "  <thead>\n",
              "    <tr style=\"text-align: right;\">\n",
              "      <th></th>\n",
              "      <th>year</th>\n",
              "      <th>births</th>\n",
              "      <th>deaths</th>\n",
              "      <th>clinic</th>\n",
              "      <th>proportion_deaths</th>\n",
              "    </tr>\n",
              "  </thead>\n",
              "  <tbody>\n",
              "    <tr>\n",
              "      <th>0</th>\n",
              "      <td>1841</td>\n",
              "      <td>3036</td>\n",
              "      <td>237</td>\n",
              "      <td>clinic 1</td>\n",
              "      <td>0.078063</td>\n",
              "    </tr>\n",
              "    <tr>\n",
              "      <th>1</th>\n",
              "      <td>1842</td>\n",
              "      <td>3287</td>\n",
              "      <td>518</td>\n",
              "      <td>clinic 1</td>\n",
              "      <td>0.157591</td>\n",
              "    </tr>\n",
              "    <tr>\n",
              "      <th>2</th>\n",
              "      <td>1843</td>\n",
              "      <td>3060</td>\n",
              "      <td>274</td>\n",
              "      <td>clinic 1</td>\n",
              "      <td>0.089542</td>\n",
              "    </tr>\n",
              "    <tr>\n",
              "      <th>3</th>\n",
              "      <td>1844</td>\n",
              "      <td>3157</td>\n",
              "      <td>260</td>\n",
              "      <td>clinic 1</td>\n",
              "      <td>0.082357</td>\n",
              "    </tr>\n",
              "    <tr>\n",
              "      <th>4</th>\n",
              "      <td>1845</td>\n",
              "      <td>3492</td>\n",
              "      <td>241</td>\n",
              "      <td>clinic 1</td>\n",
              "      <td>0.069015</td>\n",
              "    </tr>\n",
              "    <tr>\n",
              "      <th>5</th>\n",
              "      <td>1846</td>\n",
              "      <td>4010</td>\n",
              "      <td>459</td>\n",
              "      <td>clinic 1</td>\n",
              "      <td>0.114464</td>\n",
              "    </tr>\n",
              "  </tbody>\n",
              "</table>\n",
              "</div>"
            ],
            "text/plain": [
              "   year  births  deaths    clinic  proportion_deaths\n",
              "0  1841    3036     237  clinic 1           0.078063\n",
              "1  1842    3287     518  clinic 1           0.157591\n",
              "2  1843    3060     274  clinic 1           0.089542\n",
              "3  1844    3157     260  clinic 1           0.082357\n",
              "4  1845    3492     241  clinic 1           0.069015\n",
              "5  1846    4010     459  clinic 1           0.114464"
            ]
          },
          "metadata": {
            "tags": []
          },
          "execution_count": 11
        }
      ]
    },
    {
      "cell_type": "code",
      "metadata": {
        "id": "g80ZRjW-8Sk5",
        "colab_type": "code",
        "colab": {}
      },
      "source": [
        "#TASK3\n",
        "#Death at the clinics"
      ],
      "execution_count": 12,
      "outputs": []
    },
    {
      "cell_type": "code",
      "metadata": {
        "id": "mqVwxyGm8SsL",
        "colab_type": "code",
        "colab": {}
      },
      "source": [
        "#If we now plot the proportion of deaths at both clinic 1 and clinic 2 "
      ],
      "execution_count": 13,
      "outputs": []
    },
    {
      "cell_type": "code",
      "metadata": {
        "id": "pX2s0yRx8S1K",
        "colab_type": "code",
        "colab": {
          "base_uri": "https://localhost:8080/",
          "height": 316
        },
        "outputId": "85c77afc-0142-4460-918e-548fc0661984"
      },
      "source": [
        "print('CODE OF TASK 3')\n",
        "import matplotlib.pyplot as plt\n",
        "%matplotlib inline\n",
        "# Plot yearly proportion of deaths at the two clinics\n",
        "ax = yearly1.plot('year', 'proportion_deaths', label='yearly1')\n",
        "yearly2.plot('year', 'proportion_deaths', ax=ax, label='yearly2')\n",
        "\n",
        "#Chnage the y-axis label to \"Proportion deaths\"\n",
        "ax.set_ylabel(\"Proportion deaths\")"
      ],
      "execution_count": 14,
      "outputs": [
        {
          "output_type": "stream",
          "text": [
            "CODE OF TASK 3\n"
          ],
          "name": "stdout"
        },
        {
          "output_type": "execute_result",
          "data": {
            "text/plain": [
              "Text(0, 0.5, 'Proportion deaths')"
            ]
          },
          "metadata": {
            "tags": []
          },
          "execution_count": 14
        },
        {
          "output_type": "display_data",
          "data": {
            "image/png": "[encoded data removed]",
            "text/plain": [
              "<Figure size 432x288 with 1 Axes>"
            ]
          },
          "metadata": {
            "tags": [],
            "needs_background": "light"
          }
        }
      ]
    },
    {
      "cell_type": "code",
      "metadata": {
        "id": "uY80Kbgx8S99",
        "colab_type": "code",
        "colab": {}
      },
      "source": [
        "#TASK 4\n",
        "#The handwashing begins"
      ],
      "execution_count": 15,
      "outputs": []
    },
    {
      "cell_type": "code",
      "metadata": {
        "id": "dqnEx67e8THn",
        "colab_type": "code",
        "colab": {}
      },
      "source": [
        "#Why is the proportion of deaths constantly so much higher in Clinic 1? \n",
        "#Semmelweis saw the same pattern and was puzzled and distressed. \n",
        "#The only difference between the clinics was that many medical students served at Clinic 1,\n",
        "#while mostly midwife students served at Clinic 2.\n",
        "#While the midwives only tended to the women giving birth,\n",
        "#the medical students also spent time in the autopsy rooms examining corpses.\n",
        "\n",
        "#Semmelweis started to suspect that something on the corpses, \n",
        "#spread from the hands of the medical students, caused childbed fever. \n",
        "#So in a desperate attempt to stop the high mortality rates, he decreed: \n",
        "#Wash your hands! This was an unorthodox and controversial request, nobody in Vienna\n",
        "#knew about bacteria at this point in time."
      ],
      "execution_count": 16,
      "outputs": []
    },
    {
      "cell_type": "code",
      "metadata": {
        "id": "2ABOAmv0BtbU",
        "colab_type": "code",
        "colab": {}
      },
      "source": [
        "#Let's load in monthly data from Clinic 1 to see if the handwashing had any effect."
      ],
      "execution_count": 18,
      "outputs": []
    },
    {
      "cell_type": "code",
      "metadata": {
        "id": "2P4vwDgNBuB3",
        "colab_type": "code",
        "colab": {
          "base_uri": "https://localhost:8080/",
          "height": 225
        },
        "outputId": "6df5e6e8-3d32-46d8-9f83-6b49a026217a"
      },
      "source": [
        "print('CODE OF TASK 4')\n",
        "# Read datasets/monthly_deaths.csv into monthly\n",
        "monthly = pd.read_csv('monthly_deaths.csv')\n",
        "monthly[\"proportion_deaths\"] = monthly.deaths/monthly.births\n",
        "\n",
        "# Calculate proportion of deaths per no. births\n",
        "monthly.date = pd.to_datetime(monthly.date)\n",
        "# Print out the first rows in monthly\n",
        "monthly.head()"
      ],
      "execution_count": 20,
      "outputs": [
        {
          "output_type": "stream",
          "text": [
            "CODE OF TASK 4\n"
          ],
          "name": "stdout"
        },
        {
          "output_type": "execute_result",
          "data": {
            "text/html": [
              "<div>\n",
              "<style scoped>\n",
              "    .dataframe tbody tr th:only-of-type {\n",
              "        vertical-align: middle;\n",
              "    }\n",
              "\n",
              "    .dataframe tbody tr th {\n",
              "        vertical-align: top;\n",
              "    }\n",
              "\n",
              "    .dataframe thead th {\n",
              "        text-align: right;\n",
              "    }\n",
              "</style>\n",
              "<table border=\"1\" class=\"dataframe\">\n",
              "  <thead>\n",
              "    <tr style=\"text-align: right;\">\n",
              "      <th></th>\n",
              "      <th>date</th>\n",
              "      <th>births</th>\n",
              "      <th>deaths</th>\n",
              "      <th>proportion_deaths</th>\n",
              "    </tr>\n",
              "  </thead>\n",
              "  <tbody>\n",
              "    <tr>\n",
              "      <th>0</th>\n",
              "      <td>1841-01-01</td>\n",
              "      <td>254</td>\n",
              "      <td>37</td>\n",
              "      <td>0.145669</td>\n",
              "    </tr>\n",
              "    <tr>\n",
              "      <th>1</th>\n",
              "      <td>1841-02-01</td>\n",
              "      <td>239</td>\n",
              "      <td>18</td>\n",
              "      <td>0.075314</td>\n",
              "    </tr>\n",
              "    <tr>\n",
              "      <th>2</th>\n",
              "      <td>1841-03-01</td>\n",
              "      <td>277</td>\n",
              "      <td>12</td>\n",
              "      <td>0.043321</td>\n",
              "    </tr>\n",
              "    <tr>\n",
              "      <th>3</th>\n",
              "      <td>1841-04-01</td>\n",
              "      <td>255</td>\n",
              "      <td>4</td>\n",
              "      <td>0.015686</td>\n",
              "    </tr>\n",
              "    <tr>\n",
              "      <th>4</th>\n",
              "      <td>1841-05-01</td>\n",
              "      <td>255</td>\n",
              "      <td>2</td>\n",
              "      <td>0.007843</td>\n",
              "    </tr>\n",
              "  </tbody>\n",
              "</table>\n",
              "</div>"
            ],
            "text/plain": [
              "        date  births  deaths  proportion_deaths\n",
              "0 1841-01-01     254      37           0.145669\n",
              "1 1841-02-01     239      18           0.075314\n",
              "2 1841-03-01     277      12           0.043321\n",
              "3 1841-04-01     255       4           0.015686\n",
              "4 1841-05-01     255       2           0.007843"
            ]
          },
          "metadata": {
            "tags": []
          },
          "execution_count": 20
        }
      ]
    },
    {
      "cell_type": "code",
      "metadata": {
        "id": "M0YxsV8iBuRI",
        "colab_type": "code",
        "colab": {}
      },
      "source": [
        "#TASK 5\n",
        "#The effect of handwashing"
      ],
      "execution_count": 21,
      "outputs": []
    },
    {
      "cell_type": "code",
      "metadata": {
        "id": "Ahi6eed2Buco",
        "colab_type": "code",
        "colab": {}
      },
      "source": [
        "#With the data loaded we can now look at the proportion of deaths over time.\n",
        "#In the plot below we haven't marked where obligatory handwashing started,\n",
        "#but it reduced the proportion of deaths to such a degree \n",
        "#that you should be able to spot it!"
      ],
      "execution_count": 22,
      "outputs": []
    },
    {
      "cell_type": "code",
      "metadata": {
        "id": "XtqqVuA0BuqT",
        "colab_type": "code",
        "colab": {
          "base_uri": "https://localhost:8080/",
          "height": 357
        },
        "outputId": "a58b5d95-246a-441e-c283-78bc61eb30bb"
      },
      "source": [
        "from matplotlib import pyplot as plt\n",
        "%matplotlib inline\n",
        "print('CODE OF TASK 5')\n",
        "plt.figure(figsize=(8,5))\n",
        "#Plot proportion_deaths  by date  for the monthly  date using the DataFrame plot  method.\n",
        "#Save the Axes object returned by the plot  method into the variable ax .\n",
        "ax= plt.plot(monthly.date, monthly.proportion_deaths)\n",
        "\n",
        "#Change the y-axis label to \"Proportion deaths\" \n",
        "plt.ylabel('Proportion deaths')"
      ],
      "execution_count": 30,
      "outputs": [
        {
          "output_type": "stream",
          "text": [
            "CODE OF TASK 5\n"
          ],
          "name": "stdout"
        },
        {
          "output_type": "execute_result",
          "data": {
            "text/plain": [
              "Text(0, 0.5, 'Proportion deaths')"
            ]
          },
          "metadata": {
            "tags": []
          },
          "execution_count": 30
        },
        {
          "output_type": "display_data",
          "data": {
            "image/png": "[encoded data removed]",
            "text/plain": [
              "<Figure size 576x360 with 1 Axes>"
            ]
          },
          "metadata": {
            "tags": [],
            "needs_background": "light"
          }
        }
      ]
    },
    {
      "cell_type": "code",
      "metadata": {
        "id": "I6vlWssRBu4D",
        "colab_type": "code",
        "colab": {}
      },
      "source": [
        "#TASK 6\n",
        "#The effect of handwashing highlighted"
      ],
      "execution_count": 31,
      "outputs": []
    },
    {
      "cell_type": "code",
      "metadata": {
        "id": "g4k7U8VLBvFu",
        "colab_type": "code",
        "colab": {}
      },
      "source": [
        "#Starting from the summer of 1847 the proportion of deaths is drastically reduced and,\n",
        "#this was when Semmelweis made handwashing obligatory.\n",
        "\n",
        "#The effect of handwashing is made even more clear if we highlight this in the given graph."
      ],
      "execution_count": 32,
      "outputs": []
    },
    {
      "cell_type": "code",
      "metadata": {
        "id": "4V4FoUV5BwGh",
        "colab_type": "code",
        "colab": {}
      },
      "source": [
        "import pandas as pd\n",
        "handwashing_start = pd.to_datetime('1847-06-01')"
      ],
      "execution_count": 33,
      "outputs": []
    },
    {
      "cell_type": "code",
      "metadata": {
        "id": "qn9Z91UJBwbI",
        "colab_type": "code",
        "colab": {
          "base_uri": "https://localhost:8080/",
          "height": 284
        },
        "outputId": "a9fae6bd-9b54-4939-ada9-58cf95723770"
      },
      "source": [
        "print('CODE OF TASK 6')\n",
        "# Split monthly into before and after handwashing_start\n",
        "before_washing = monthly.loc[monthly.date < handwashing_start, :]\n",
        "after_washing = monthly.loc[monthly.date >= handwashing_start, :]\n",
        "#Plot proportion_deaths  in before_washing  and after_washing  into the same plot.\n",
        "#Use the DataFrame plot  method.\n",
        "#Label the plotted lines using the label  argument to plot .\n",
        "plt.plot(before_washing.date,before_washing.proportion_deaths, label='before_washing')\n",
        "plt.plot(after_washing.date,after_washing.proportion_deaths, label='after_washing')\n",
        "plt.legend()\n",
        "#Save the Axes object returned by the plot  method into the variable ax .\n",
        "#Change the y-axis label to \"Proportion deaths\" .\n",
        "plt.ylabel('Proportion deaths')\n",
        "plt.show()"
      ],
      "execution_count": 48,
      "outputs": [
        {
          "output_type": "stream",
          "text": [
            "CODE OF TASK 6\n"
          ],
          "name": "stdout"
        },
        {
          "output_type": "display_data",
          "data": {
            "image/png": "[encoded data removed]",
            "text/plain": [
              "<Figure size 432x288 with 1 Axes>"
            ]
          },
          "metadata": {
            "tags": [],
            "needs_background": "light"
          }
        }
      ]
    },
    {
      "cell_type": "code",
      "metadata": {
        "id": "wUCeeGi3KEeq",
        "colab_type": "code",
        "colab": {}
      },
      "source": [
        "#TASK 7\n",
        "#More handwashing, fewer deaths?"
      ],
      "execution_count": 35,
      "outputs": []
    },
    {
      "cell_type": "code",
      "metadata": {
        "id": "AoInnccVKE3Q",
        "colab_type": "code",
        "colab": {}
      },
      "source": [
        "#Again, the graph shows that handwashing had a huge effect.\n",
        "#How much did it reduce the monthly proportion of deaths on average?"
      ],
      "execution_count": 36,
      "outputs": []
    },
    {
      "cell_type": "code",
      "metadata": {
        "id": "8PqFmK4jKFHK",
        "colab_type": "code",
        "colab": {
          "base_uri": "https://localhost:8080/",
          "height": 54
        },
        "outputId": "eb5cea31-5ba1-4f7d-a120-e2a200fab7cb"
      },
      "source": [
        "# Difference in mean monthly proportion of deaths due to handwashing\n",
        "print('CODE OF TASK 7')\n",
        "#Select the column proportion_deaths  in before_washing  and put it into before_proportion .\n",
        "before_proportion = before_washing.proportion_deaths\n",
        "#Same for proportion_deaths  in after_washing  and put it into after_proportion .\n",
        "after_proportion = after_washing.proportion_deaths\n",
        "#Calculate the difference in mean monthly proportion of deaths as mean after_proportion  minus mean before_proportion .\n",
        "mean_diff = after_proportion.mean() - before_proportion.mean()\n",
        "mean_diff"
      ],
      "execution_count": 49,
      "outputs": [
        {
          "output_type": "stream",
          "text": [
            "CODE OF TASK 7\n"
          ],
          "name": "stdout"
        },
        {
          "output_type": "execute_result",
          "data": {
            "text/plain": [
              "-0.0839566075118334"
            ]
          },
          "metadata": {
            "tags": []
          },
          "execution_count": 49
        }
      ]
    },
    {
      "cell_type": "code",
      "metadata": {
        "id": "AgAobeRUKFSs",
        "colab_type": "code",
        "colab": {}
      },
      "source": [
        "#TASK 8\n",
        "#A Bootstrap analysis of Semmelweis handwashing data"
      ],
      "execution_count": 38,
      "outputs": []
    },
    {
      "cell_type": "code",
      "metadata": {
        "id": "L9ZTu3LSKFcq",
        "colab_type": "code",
        "colab": {}
      },
      "source": [
        "#It reduced the proportion of deaths by around 8 percentage points! From 10% on average \n",
        "#to just 2% (which is still a high number by modern standards).\n",
        "\n",
        "#To get a feeling for the uncertainty around how much handwashing\n",
        "#reduces mortalities we could look at a confidence interval \n",
        "#(here calculated using the bootstrap method)."
      ],
      "execution_count": 39,
      "outputs": []
    },
    {
      "cell_type": "code",
      "metadata": {
        "id": "Hpkf9_xaKFlo",
        "colab_type": "code",
        "colab": {
          "base_uri": "https://localhost:8080/",
          "height": 92
        },
        "outputId": "e6a98338-9a90-41fe-ea02-726a7dc666bf"
      },
      "source": [
        "# A bootstrap analysis of the reduction of deaths due to handwashing\n",
        "print('CODE OF TASK 8')\n",
        "#boot_before  and boot_after  should be sampled with replacement from before_proportion  and after_proportion .\n",
        "boot_mean_diff = []\n",
        "for i in range(3000):\n",
        "    boot_before = before_proportion.sample(frac=1, replace=True)\n",
        "    boot_after = after_proportion.sample(frac=1, replace=True)\n",
        "    #Append 3000 bootstrapped differences in means to boot_mean_diff .\n",
        "    boot_mean_diff.append(boot_after.mean()-boot_before.mean())\n",
        "\n",
        "# Calculating a 95% confidence interval from boot_mean_diff \n",
        "confidence_interval = pd.Series(boot_mean_diff).quantile([0.025,0.975])\n",
        "confidence_interval"
      ],
      "execution_count": 50,
      "outputs": [
        {
          "output_type": "stream",
          "text": [
            "CODE OF TASK 8\n"
          ],
          "name": "stdout"
        },
        {
          "output_type": "execute_result",
          "data": {
            "text/plain": [
              "0.025   -0.101695\n",
              "0.975   -0.067111\n",
              "dtype: float64"
            ]
          },
          "metadata": {
            "tags": []
          },
          "execution_count": 50
        }
      ]
    },
    {
      "cell_type": "code",
      "metadata": {
        "id": "cDOFkjRyKFuc",
        "colab_type": "code",
        "colab": {}
      },
      "source": [
        "#TASK 9\n",
        "#The fate of Dr. Semmelweis"
      ],
      "execution_count": 41,
      "outputs": []
    },
    {
      "cell_type": "code",
      "metadata": {
        "id": "vPSJM1tvPDC1",
        "colab_type": "code",
        "colab": {}
      },
      "source": [
        "#So handwashing reduced the proportion of deaths by between 6.7 and 10 percentage points, \n",
        "#according to a 95% confidence interval. \n",
        "#All in all, it would seem that Semmelweis had solid evidence that handwashing \n",
        "#was a simple but highly effective procedure that could save many lives.\n",
        "#The tragedy is that, despite the evidence, Semmelweis' theory — \n",
        "#that childbed fever was caused by some \"substance\" (what we today know as bacteria) from\n",
        "#autopsy room corpses — was ridiculed by contemporary scientists. \n",
        "#The medical community largely rejected his discovery and in 1849 he was forced to leave the Vienna General Hospital for good."
      ],
      "execution_count": 42,
      "outputs": []
    },
    {
      "cell_type": "code",
      "metadata": {
        "id": "6qapGgVCNlOu",
        "colab_type": "code",
        "colab": {}
      },
      "source": [
        "#One reason for this was that statistics and statistical arguments were uncommon \n",
        "#in medical science in the 1800s. Semmelweis only published his data as long tables\n",
        "#of raw data, but he didn't show any graphs nor confidence intervals. If he would have\n",
        "#had access to the analysis we've just put together he might have been more successful \n",
        "#in getting the Viennese doctors to wash their hands."
      ],
      "execution_count": 43,
      "outputs": []
    },
    {
      "cell_type": "code",
      "metadata": {
        "id": "aD0iwio9KF2z",
        "colab_type": "code",
        "colab": {
          "base_uri": "https://localhost:8080/",
          "height": 54
        },
        "outputId": "0bbd612d-0992-4d3e-d7cb-71728439e523"
      },
      "source": [
        "print('CODE OF TASK 9')\n",
        "#Given the data Semmelweis collected, is it True  or False  that doctors should wash their hands?\n",
        "print('doctors_should_wash_their_hands = True')"
      ],
      "execution_count": 51,
      "outputs": [
        {
          "output_type": "stream",
          "text": [
            "CODE OF TASK 9\n",
            "doctors_should_wash_their_hands = True\n"
          ],
          "name": "stdout"
        }
      ]
    }
  ]
}